{
 "cells": [
  {
   "cell_type": "markdown",
   "id": "27578f12",
   "metadata": {},
   "source": [
    "# Shuttling and noise"
   ]
  },
  {
   "cell_type": "markdown",
   "id": "6f97b8a4",
   "metadata": {},
   "source": [
    "Our question: take two circuits that only differ because of crossings, for example see the two below, imported from file.  Is the one that doesn't present any crossings any better in terms mitigating noise?"
   ]
  },
  {
   "cell_type": "markdown",
   "id": "945c100a",
   "metadata": {},
   "source": [
    "## Importing the circuits"
   ]
  },
  {
   "cell_type": "code",
   "execution_count": 1,
   "id": "ec7dd2e9",
   "metadata": {},
   "outputs": [],
   "source": [
    "from pathlib import Path\n",
    "\n",
    "# path to wherever Jupyter is launched from\n",
    "project_root = Path.cwd()  \n",
    "\n",
    "# now build a path to .qasm files\n",
    "qasm_dir   = project_root\n",
    "qasm_file_paths = sorted(qasm_dir.glob(\"*.qasm\"))\n",
    "\n",
    "\n",
    "if not qasm_file_paths:\n",
    "    raise FileNotFoundError(f\"No .qasm files found in {qasm_dir}\")"
   ]
  },
  {
   "cell_type": "code",
   "execution_count": 2,
   "id": "e8910009",
   "metadata": {},
   "outputs": [
    {
     "name": "stdout",
     "output_type": "stream",
     "text": [
      "→ /home/alessandro/Desktop/qhack/tutorial/ver1.qasm parsed & lowered: Method(\"ver1\")\n",
      "→ /home/alessandro/Desktop/qhack/tutorial/ver2.qasm parsed & lowered: Method(\"ver2\")\n"
     ]
    }
   ],
   "source": [
    "from bloqade import qasm2\n",
    "from bloqade.qasm2.parse.lowering import QASM2\n",
    "from bloqade.qasm2.passes import QASM2Py\n",
    "\n",
    "# parse & lower each one\n",
    "programs = {}\n",
    "for path in qasm_file_paths:\n",
    "    prog = QASM2(qasm2.main).loadfile(file=path)\n",
    "\n",
    "    \"\"\"\n",
    "    reinterpret into Bloqade's parallelization-friendly intermediate representation. \n",
    "    Similar behaviour could have been obtained by just using qasm2.extended above\n",
    "    \"\"\"\n",
    "    QASM2Py(prog.dialects)(prog)\n",
    "    prog = prog.similar(qasm2.extended)\n",
    "\n",
    "    programs[Path(path).stem] = prog\n",
    "    print(f\"→ {path} parsed & lowered: {prog}\")\n",
    "\n",
    "# `programs` now holds each file’s lowered IR under its filename-stem.\n"
   ]
  },
  {
   "cell_type": "code",
   "execution_count": 3,
   "id": "3a0ac80a",
   "metadata": {},
   "outputs": [],
   "source": [
    "from bloqade.qasm2.emit import QASM2 # the QASM2 target\n",
    "from bloqade.qasm2.parse import pprint # the QASM2 pretty printer\n",
    "\n",
    "target = QASM2(allow_parallel=True)"
   ]
  },
  {
   "cell_type": "code",
   "execution_count": 4,
   "id": "c6254cf6",
   "metadata": {},
   "outputs": [
    {
     "name": "stdout",
     "output_type": "stream",
     "text": [
      "\u001b[90mKIRIN {func,lowering.call,lowering.func,py.ilist,qasm2.core,qasm2.expr,qasm2.indexing,qasm2.parallel,qasm2.uop,scf}\u001b[0m;\n",
      "\u001b[31minclude\u001b[0m \u001b[32m\"qelib1.inc\"\u001b[0m;\n",
      "\u001b[31mqreg\u001b[0m var_0[4];\n",
      "\u001b[36mh\u001b[0m \u001b[36mvar_0\u001b[0m[\u001b[39m0\u001b[0m];\n",
      "\u001b[36mh\u001b[0m \u001b[36mvar_0\u001b[0m[\u001b[39m2\u001b[0m];\n",
      "\u001b[31mCX\u001b[0m \u001b[36mvar_0\u001b[0m[\u001b[39m0\u001b[0m], \u001b[36mvar_0\u001b[0m[\u001b[39m1\u001b[0m];\n",
      "\u001b[31mCX\u001b[0m \u001b[36mvar_0\u001b[0m[\u001b[39m2\u001b[0m], \u001b[36mvar_0\u001b[0m[\u001b[39m3\u001b[0m];\n"
     ]
    }
   ],
   "source": [
    "program1 = target.emit(programs[\"ver1\"])\n",
    "pprint(program1)"
   ]
  },
  {
   "cell_type": "code",
   "execution_count": 5,
   "id": "f88825a5",
   "metadata": {},
   "outputs": [
    {
     "name": "stdout",
     "output_type": "stream",
     "text": [
      "\u001b[90mKIRIN {func,lowering.call,lowering.func,py.ilist,qasm2.core,qasm2.expr,qasm2.indexing,qasm2.parallel,qasm2.uop,scf}\u001b[0m;\n",
      "\u001b[31minclude\u001b[0m \u001b[32m\"qelib1.inc\"\u001b[0m;\n",
      "\u001b[31mqreg\u001b[0m var_0[4];\n",
      "\u001b[36mh\u001b[0m \u001b[36mvar_0\u001b[0m[\u001b[39m0\u001b[0m];\n",
      "\u001b[36mh\u001b[0m \u001b[36mvar_0\u001b[0m[\u001b[39m2\u001b[0m];\n",
      "\u001b[31mCX\u001b[0m \u001b[36mvar_0\u001b[0m[\u001b[39m0\u001b[0m], \u001b[36mvar_0\u001b[0m[\u001b[39m1\u001b[0m];\n",
      "\u001b[31mCX\u001b[0m \u001b[36mvar_0\u001b[0m[\u001b[39m2\u001b[0m], \u001b[36mvar_0\u001b[0m[\u001b[39m3\u001b[0m];\n"
     ]
    }
   ],
   "source": [
    "program2 = target.emit(programs[\"ver1\"])\n",
    "pprint(program2)"
   ]
  },
  {
   "cell_type": "markdown",
   "id": "3a3c94a2",
   "metadata": {},
   "source": [
    "## Draw the circuits"
   ]
  },
  {
   "cell_type": "code",
   "execution_count": 6,
   "id": "21b748d7",
   "metadata": {},
   "outputs": [],
   "source": [
    "from kirin import ir\n",
    "from qiskit import QuantumCircuit\n",
    "\n",
    "from bloqade.qasm2.rewrite.native_gates import RydbergGateSetRewriteRule\n",
    "from kirin import ir\n",
    "from kirin.rewrite import Walk\n",
    "from bloqade.qasm2.passes import UOpToParallel, QASM2Fold\n",
    "\n",
    "\n",
    "@ir.dialect_group(qasm2.extended)\n",
    "def extended_opt(self):\n",
    "    native_rewrite = Walk(RydbergGateSetRewriteRule(self)) # use Kirin's functionality to walk code line by line while applying neutral-atom gate decomposition as defined in Bloqade\n",
    "    parallelize_pass = UOpToParallel(self) # review the code and apply parallelization using a heuristic\n",
    "    agg_fold = QASM2Fold(self) # supports parallelization by unfolding loops to search for parallelization opportunities\n",
    "\n",
    "    # here we define our new compiler pass\n",
    "    def run_pass(\n",
    "        kernel: ir.Method,\n",
    "        *,\n",
    "        fold: bool = True,\n",
    "        typeinfer: bool = True,\n",
    "        parallelize: bool = False,\n",
    "    ):\n",
    "        assert qasm2.extended.run_pass is not None\n",
    "        qasm2.extended.run_pass(kernel, fold=fold, typeinfer=typeinfer) # apply the original run_pass to the lowered kernel\n",
    "        native_rewrite.rewrite(kernel.code) # decompose all gates in the circuit to neutral atom gate set\n",
    "\n",
    "        # here goes our parallelization optimizer; the order of the commands here matters!\n",
    "        if parallelize:\n",
    "            agg_fold.fixpoint(kernel)\n",
    "            parallelize_pass(kernel)\n",
    "\n",
    "    return run_pass\n",
    "\n",
    "\n",
    "# helper to go from Method → Qiskit\n",
    "def method_to_qiskit(method: ir.Method, *,parallelize: bool = True) -> QuantumCircuit:\n",
    "    # run extended pass in case forgot\n",
    "    extended_opt.run_pass(method, parallelize=parallelize)\n",
    "    # emit OpenQASM2 text\n",
    "    qasm = QASM2().emit_str(method)\n",
    "    # parse into a Qiskit circuit\n",
    "    return QuantumCircuit.from_qasm_str(qasm)\n",
    "\n",
    "def method_to_qiskit_noparallel(method: ir.Method, *,parallelize: bool = True) -> QuantumCircuit:\n",
    "    # emit OpenQASM2 text\n",
    "    qasm = QASM2().emit_str(method)\n",
    "    # parse into a Qiskit circuit\n",
    "    return QuantumCircuit.from_qasm_str(qasm)"
   ]
  },
  {
   "cell_type": "code",
   "execution_count": 7,
   "id": "1cc08099",
   "metadata": {},
   "outputs": [
    {
     "data": {
      "image/png": "[encoded data removed]",
      "text/plain": [
       "<Figure size 244.156x257.522 with 1 Axes>"
      ]
     },
     "metadata": {},
     "output_type": "display_data"
    }
   ],
   "source": [
    "circuit1 = programs[\"ver1\"]\n",
    "\n",
    "qc = method_to_qiskit_noparallel(circuit1)\n",
    "#print(qc.draw(output=\"text\"))\n",
    "fig = qc.draw(output=\"mpl\", fold=120, scale=0.7)\n",
    "display(fig)   # in a Jupyter notebook"
   ]
  },
  {
   "cell_type": "code",
   "execution_count": 8,
   "id": "a616304d",
   "metadata": {},
   "outputs": [
    {
     "data": {
      "image/png": "[encoded data removed]",
      "text/plain": [
       "<Figure size 302.683x257.522 with 1 Axes>"
      ]
     },
     "metadata": {},
     "output_type": "display_data"
    }
   ],
   "source": [
    "circuit2 = programs[\"ver2\"]\n",
    "\n",
    "qc = method_to_qiskit_noparallel(circuit2)\n",
    "#print(qc.draw(output=\"text\"))\n",
    "fig = qc.draw(output=\"mpl\", fold=120, scale=0.7)\n",
    "display(fig)   # in a Jupyter notebook"
   ]
  },
  {
   "cell_type": "markdown",
   "id": "dbab858f",
   "metadata": {},
   "source": [
    "## Simulate without noise"
   ]
  },
  {
   "cell_type": "code",
   "execution_count": 9,
   "id": "a35a0aa2",
   "metadata": {},
   "outputs": [],
   "source": [
    "# There's a dependency in Bloqade that (currently)\n",
    "# spits out some warnings you don't need to worry about.\n",
    "import warnings\n",
    "warnings.filterwarnings(\"ignore\")\n",
    "\n",
    "from bloqade.qasm2.rewrite.native_gates import RydbergGateSetRewriteRule\n",
    "from kirin.rewrite import Walk"
   ]
  },
  {
   "cell_type": "code",
   "execution_count": 10,
   "id": "c1ceb1f0",
   "metadata": {},
   "outputs": [],
   "source": [
    "def method1(parallelize: bool = False):\n",
    "\n",
    "    @extended_opt(parallelize=parallelize)\n",
    "    def method1_program():\n",
    "        qreg = qasm2.qreg(4)\n",
    "        qasm2.h(qreg[0])\n",
    "        qasm2.h(qreg[2])\n",
    "        qasm2.cx(qreg[0],qreg[1])\n",
    "        qasm2.cx(qreg[2],qreg[3])\n",
    "        qasm2.cx(qreg[0],qreg[1])\n",
    "        qasm2.cx(qreg[2],qreg[3])\n",
    "        return qreg\n",
    "\n",
    "    return method1_program\n",
    "\n",
    "\n",
    "kernel1 = method1(parallelize=False)"
   ]
  },
  {
   "cell_type": "code",
   "execution_count": 19,
   "id": "979ce7e0",
   "metadata": {},
   "outputs": [
    {
     "data": {
      "text/latex": [
       "$$(-0.2560154796 + 0.4294834435 i) |0000\\rangle+(-0.2560156584 + 0.4294833541 i) |0001\\rangle+(-4.28 \\cdot 10^{-8} - 2.03 \\cdot 10^{-8} i) |0010\\rangle+(-4.05 \\cdot 10^{-8} - 1.92 \\cdot 10^{-8} i) |0011\\rangle+(-0.2560156584 + 0.4294833541 i) |0100\\rangle+(-0.256015867 + 0.4294832349 i) |0101\\rangle+(-4.28 \\cdot 10^{-8} - 2.03 \\cdot 10^{-8} i) |0110\\rangle+(-4.05 \\cdot 10^{-8} - 1.92 \\cdot 10^{-8} i) |0111\\rangle+(-2.55 \\cdot 10^{-8} - 6.59 \\cdot 10^{-8} i) |1000\\rangle+(-2.55 \\cdot 10^{-8} - 6.59 \\cdot 10^{-8} i) |1001\\rangle+(-2.95 \\cdot 10^{-8} - 2.4 \\cdot 10^{-8} i) |1100\\rangle+(-2.95 \\cdot 10^{-8} - 2.4 \\cdot 10^{-8} i) |1101\\rangle$$"
      ],
      "text/plain": [
       "<IPython.core.display.Latex object>"
      ]
     },
     "metadata": {},
     "output_type": "display_data"
    }
   ],
   "source": [
    "from bloqade.pyqrack import PyQrack\n",
    "from collections import Counter\n",
    "from qiskit.quantum_info import Statevector, Operator\n",
    "\n",
    "device = PyQrack(dynamic_qubits=True, pyqrack_options={\"isBinaryDecisionTree\": False})\n",
    "reg = device.run(kernel1)\n",
    "\n",
    "qbit = reg[0]\n",
    "finalstate1 = Statevector(qbit.sim_reg.out_ket())\n",
    "display(finalstate1.draw(\"latex\"))"
   ]
  },
  {
   "cell_type": "code",
   "execution_count": 20,
   "id": "a4ff8f93",
   "metadata": {},
   "outputs": [],
   "source": [
    "def method2(parallelize: bool = False):\n",
    "\n",
    "    @extended_opt(parallelize=parallelize)\n",
    "    def method2_program():\n",
    "        qreg = qasm2.qreg(4)\n",
    "        qasm2.h(qreg[0])\n",
    "        qasm2.h(qreg[1])\n",
    "        qasm2.cx(qreg[0],qreg[2])\n",
    "        qasm2.cx(qreg[1],qreg[3])\n",
    "        qasm2.cx(qreg[0],qreg[1])\n",
    "        qasm2.cx(qreg[2],qreg[3])\n",
    "        return qreg\n",
    "\n",
    "    return method2_program\n",
    "\n",
    "\n",
    "kernel2 = method2(parallelize=False)"
   ]
  },
  {
   "cell_type": "code",
   "execution_count": 21,
   "id": "377bb857",
   "metadata": {},
   "outputs": [
    {
     "data": {
      "text/latex": [
       "$$(0.4611987472 - 0.1931207776 i) |0000\\rangle+(1.49 \\cdot 10^{-8} + 8.94 \\cdot 10^{-8} i) |0010\\rangle+(1.34 \\cdot 10^{-8} + 1.63 \\cdot 10^{-8} i) |0011\\rangle+(0.4611990154 - 0.1931203753 i) |0101\\rangle+(-2.9 \\cdot 10^{-9} + 2.97 \\cdot 10^{-8} i) |0110\\rangle+(1.49 \\cdot 10^{-8} + 4.47 \\cdot 10^{-8} i) |0111\\rangle+3.73 \\cdot 10^{-8} i |1000\\rangle+(1.34 \\cdot 10^{-8} + 1.63 \\cdot 10^{-8} i) |1001\\rangle+(0.4611989558 - 0.1931204498 i) |1010\\rangle+(-2.9 \\cdot 10^{-9} + 2.97 \\cdot 10^{-8} i) |1100\\rangle+(4.47 \\cdot 10^{-8} + 8.2 \\cdot 10^{-8} i) |1101\\rangle+(0.4611988962 - 0.1931205541 i) |1111\\rangle$$"
      ],
      "text/plain": [
       "<IPython.core.display.Latex object>"
      ]
     },
     "metadata": {},
     "output_type": "display_data"
    }
   ],
   "source": [
    "from bloqade.pyqrack import PyQrack\n",
    "from collections import Counter\n",
    "from qiskit.quantum_info import Statevector, Operator\n",
    "\n",
    "device = PyQrack(dynamic_qubits=True, pyqrack_options={\"isBinaryDecisionTree\": False})\n",
    "reg = device.run(kernel2)\n",
    "\n",
    "qbit = reg[0]\n",
    "finalstate2 = Statevector(qbit.sim_reg.out_ket())\n",
    "display(finalstate2.draw(\"latex\"))"
   ]
  },
  {
   "cell_type": "markdown",
   "id": "156d68b4",
   "metadata": {},
   "source": [
    "The states are the same save for global phases and renaming the qbits"
   ]
  },
  {
   "cell_type": "markdown",
   "id": "0be9fd05",
   "metadata": {},
   "source": [
    "## Now let's add noise"
   ]
  },
  {
   "cell_type": "code",
   "execution_count": 23,
   "id": "0240437e",
   "metadata": {},
   "outputs": [
    {
     "name": "stdout",
     "output_type": "stream",
     "text": [
      "0.9090995812441061 +- 0.009534671369502496\n"
     ]
    }
   ],
   "source": [
    "from bloqade.qasm2.passes import NoisePass\n",
    "from bloqade.noise import native\n",
    "import numpy as np\n",
    "\n",
    "# add noise\n",
    "noise_kernel1 = kernel1.similar()\n",
    "extended_opt.run_pass(noise_kernel1, parallelize=True)\n",
    "NoisePass(extended_opt)(noise_kernel1)\n",
    "\n",
    "noise_kernel1 = noise_kernel1.similar(extended_opt.add(native))\n",
    "\n",
    "device = PyQrack(dynamic_qubits=True, pyqrack_options={\"isBinaryDecisionTree\": False})\n",
    "Nshots = 10000\n",
    "\n",
    "noisy_states1 = [reg[0].sim_reg.out_ket() for reg in device.multi_run(noise_kernel1, _shots = Nshots)]\n",
    "\n",
    "fidelities = [np.abs(np.vdot(noisy_states1[i],finalstate1))**2 for i in range(Nshots)]\n",
    "fidelity1 = np.mean(fidelities)\n",
    "sfidelity1 = np.std(fidelities)\n",
    "\n",
    "print(f\"{fidelity1} +- {np.sqrt(fidelity1/Nshots)}\")"
   ]
  },
  {
   "cell_type": "code",
   "execution_count": 24,
   "id": "19d66b32",
   "metadata": {},
   "outputs": [
    {
     "name": "stdout",
     "output_type": "stream",
     "text": [
      "0.9090995812441061 +- 0.009534671369502496\n"
     ]
    }
   ],
   "source": [
    "from bloqade.qasm2.passes import NoisePass\n",
    "from bloqade.noise import native\n",
    "import numpy as np\n",
    "\n",
    "# add noise\n",
    "noise_kernel2 = kernel2.similar()\n",
    "extended_opt.run_pass(noise_kernel2, parallelize=True)\n",
    "NoisePass(extended_opt)(noise_kernel2)\n",
    "\n",
    "noise_kernel2 = noise_kernel2.similar(extended_opt.add(native))\n",
    "\n",
    "device = PyQrack(dynamic_qubits=True, pyqrack_options={\"isBinaryDecisionTree\": False})\n",
    "Nshots = 10000\n",
    "\n",
    "noisy_states2 = [reg[0].sim_reg.out_ket() for reg in device.multi_run(noise_kernel2, _shots = Nshots)]\n",
    "\n",
    "fidelities = [np.abs(np.vdot(noisy_states1[i],finalstate1))**2 for i in range(Nshots)]\n",
    "fidelity2 = np.mean(fidelities)\n",
    "sfidelity2 = np.std(fidelities)\n",
    "\n",
    "print(f\"{fidelity2} +- {np.sqrt(fidelity2/Nshots)}\")"
   ]
  },
  {
   "cell_type": "markdown",
   "id": "76774fe4",
   "metadata": {},
   "source": [
    "# Let's parallelize (naively)"
   ]
  },
  {
   "cell_type": "markdown",
   "id": "a53ebf47",
   "metadata": {},
   "source": [
    "## Simulate without noise"
   ]
  },
  {
   "cell_type": "code",
   "execution_count": 25,
   "id": "e49d6bad",
   "metadata": {},
   "outputs": [],
   "source": [
    "# There's a dependency in Bloqade that (currently)\n",
    "# spits out some warnings you don't need to worry about.\n",
    "import warnings\n",
    "warnings.filterwarnings(\"ignore\")\n",
    "\n",
    "from bloqade.qasm2.rewrite.native_gates import RydbergGateSetRewriteRule\n",
    "from kirin.rewrite import Walk"
   ]
  },
  {
   "cell_type": "code",
   "execution_count": 26,
   "id": "9e085a21",
   "metadata": {},
   "outputs": [],
   "source": [
    "def method1(parallelize: bool = False):\n",
    "\n",
    "    @extended_opt(parallelize=parallelize)\n",
    "    def method1_program():\n",
    "        qreg = qasm2.qreg(4)\n",
    "        qasm2.h(qreg[0])\n",
    "        qasm2.h(qreg[2])\n",
    "        qasm2.cx(qreg[0],qreg[1])\n",
    "        qasm2.cx(qreg[2],qreg[3])\n",
    "        qasm2.cx(qreg[0],qreg[1])\n",
    "        qasm2.cx(qreg[2],qreg[3])\n",
    "        return qreg\n",
    "\n",
    "    return method1_program\n",
    "\n",
    "\n",
    "kernel1 = method1(parallelize=True)"
   ]
  },
  {
   "cell_type": "code",
   "execution_count": 27,
   "id": "ea134292",
   "metadata": {},
   "outputs": [
    {
     "name": "stdout",
     "output_type": "stream",
     "text": [
      "\u001b[90mKIRIN {func,lowering.call,lowering.func,py.ilist,qasm2.core,qasm2.expr,qasm2.indexing,qasm2.parallel,qasm2.uop,scf}\u001b[0m;\n",
      "\u001b[31minclude\u001b[0m \u001b[32m\"qelib1.inc\"\u001b[0m;\n",
      "\u001b[31mqreg\u001b[0m qreg[4];\n",
      "\u001b[31mparallel.U\u001b[0m(1.5707963267949, 0.0, 3.14159265358979) {\n",
      "\u001b[90m  \u001b[0m\u001b[36mqreg\u001b[0m[\u001b[39m0\u001b[0m];\n",
      "\u001b[90m  \u001b[0m\u001b[36mqreg\u001b[0m[\u001b[39m2\u001b[0m];\n",
      "}\n",
      "\u001b[31mparallel.U\u001b[0m(1.5707963267949, 0.0, 6.28318530717959) {\n",
      "\u001b[90m  \u001b[0m\u001b[36mqreg\u001b[0m[\u001b[39m1\u001b[0m];\n",
      "\u001b[90m  \u001b[0m\u001b[36mqreg\u001b[0m[\u001b[39m3\u001b[0m];\n",
      "}\n",
      "\u001b[31mparallel.CZ \u001b[0m{\n",
      "\u001b[90m  \u001b[0m\u001b[36mqreg\u001b[0m[\u001b[39m0\u001b[0m], \u001b[36mqreg\u001b[0m[\u001b[39m1\u001b[0m];\n",
      "\u001b[90m  \u001b[0m\u001b[36mqreg\u001b[0m[\u001b[39m2\u001b[0m], \u001b[36mqreg\u001b[0m[\u001b[39m3\u001b[0m];\n",
      "}\n",
      "\u001b[31mparallel.U\u001b[0m(1.5707963267949, 3.14159265358979, 3.14159265358979) {\n",
      "\u001b[90m  \u001b[0m\u001b[36mqreg\u001b[0m[\u001b[39m1\u001b[0m];\n",
      "\u001b[90m  \u001b[0m\u001b[36mqreg\u001b[0m[\u001b[39m3\u001b[0m];\n",
      "}\n",
      "\u001b[31mparallel.U\u001b[0m(0.0, 0.0, 3.14159265358979) {\n",
      "\u001b[90m  \u001b[0m\u001b[36mqreg\u001b[0m[\u001b[39m0\u001b[0m];\n",
      "\u001b[90m  \u001b[0m\u001b[36mqreg\u001b[0m[\u001b[39m2\u001b[0m];\n",
      "}\n",
      "\u001b[31mparallel.U\u001b[0m(0.0, 0.0, 6.28318530717958) {\n",
      "\u001b[90m  \u001b[0m\u001b[36mqreg\u001b[0m[\u001b[39m1\u001b[0m];\n",
      "\u001b[90m  \u001b[0m\u001b[36mqreg\u001b[0m[\u001b[39m3\u001b[0m];\n",
      "}\n",
      "\u001b[31mparallel.U\u001b[0m(1.5707963267949, 0.0, 6.28318530717959) {\n",
      "\u001b[90m  \u001b[0m\u001b[36mqreg\u001b[0m[\u001b[39m1\u001b[0m];\n",
      "\u001b[90m  \u001b[0m\u001b[36mqreg\u001b[0m[\u001b[39m3\u001b[0m];\n",
      "}\n",
      "\u001b[31mparallel.CZ \u001b[0m{\n",
      "\u001b[90m  \u001b[0m\u001b[36mqreg\u001b[0m[\u001b[39m0\u001b[0m], \u001b[36mqreg\u001b[0m[\u001b[39m1\u001b[0m];\n",
      "\u001b[90m  \u001b[0m\u001b[36mqreg\u001b[0m[\u001b[39m2\u001b[0m], \u001b[36mqreg\u001b[0m[\u001b[39m3\u001b[0m];\n",
      "}\n",
      "\u001b[31mparallel.U\u001b[0m(1.5707963267949, 3.14159265358979, 3.14159265358979) {\n",
      "\u001b[90m  \u001b[0m\u001b[36mqreg\u001b[0m[\u001b[39m1\u001b[0m];\n",
      "\u001b[90m  \u001b[0m\u001b[36mqreg\u001b[0m[\u001b[39m3\u001b[0m];\n",
      "}\n",
      "\u001b[31mparallel.U\u001b[0m(0.0, 0.0, 3.14159265358979) {\n",
      "\u001b[90m  \u001b[0m\u001b[36mqreg\u001b[0m[\u001b[39m0\u001b[0m];\n",
      "\u001b[90m  \u001b[0m\u001b[36mqreg\u001b[0m[\u001b[39m2\u001b[0m];\n",
      "}\n",
      "\u001b[31mparallel.U\u001b[0m(0.0, 0.0, 6.28318530717958) {\n",
      "\u001b[90m  \u001b[0m\u001b[36mqreg\u001b[0m[\u001b[39m1\u001b[0m];\n",
      "\u001b[90m  \u001b[0m\u001b[36mqreg\u001b[0m[\u001b[39m3\u001b[0m];\n",
      "}\n"
     ]
    }
   ],
   "source": [
    "qasm2.parse.pprint(target.emit(method1(parallelize=True)))"
   ]
  },
  {
   "cell_type": "code",
   "execution_count": 28,
   "id": "391a596e",
   "metadata": {},
   "outputs": [
    {
     "data": {
      "text/latex": [
       "$$(-0.335476011 - 0.3707503974 i) |0000\\rangle+(-0.3354757726 - 0.3707505763 i) |0001\\rangle+(8.0 \\cdot 10^{-10} - 1.05 \\cdot 10^{-8} i) |0010\\rangle+(2.43 \\cdot 10^{-8} - 4.04 \\cdot 10^{-8} i) |0011\\rangle+(-0.335475862 - 0.3707505763 i) |0100\\rangle+(-0.3354756236 - 0.3707507253 i) |0101\\rangle+(8.0 \\cdot 10^{-10} - 1.05 \\cdot 10^{-8} i) |0110\\rangle+(2.43 \\cdot 10^{-8} - 4.04 \\cdot 10^{-8} i) |0111\\rangle+(2.99 \\cdot 10^{-8} - 3.16 \\cdot 10^{-8} i) |1000\\rangle+(2.99 \\cdot 10^{-8} - 3.16 \\cdot 10^{-8} i) |1001\\rangle+(2.99 \\cdot 10^{-8} - 3.16 \\cdot 10^{-8} i) |1100\\rangle+(2.99 \\cdot 10^{-8} - 3.16 \\cdot 10^{-8} i) |1101\\rangle$$"
      ],
      "text/plain": [
       "<IPython.core.display.Latex object>"
      ]
     },
     "metadata": {},
     "output_type": "display_data"
    }
   ],
   "source": [
    "from bloqade.pyqrack import PyQrack\n",
    "from collections import Counter\n",
    "from qiskit.quantum_info import Statevector, Operator\n",
    "\n",
    "device = PyQrack(dynamic_qubits=True, pyqrack_options={\"isBinaryDecisionTree\": False})\n",
    "reg = device.run(kernel1)\n",
    "\n",
    "qbit = reg[0]\n",
    "finalstate1 = qbit.sim_reg.out_ket()\n",
    "display(Statevector(finalstate1).draw(\"latex\"))"
   ]
  },
  {
   "cell_type": "code",
   "execution_count": 29,
   "id": "91e21fa8",
   "metadata": {},
   "outputs": [],
   "source": [
    "def method2(parallelize: bool = False):\n",
    "\n",
    "    @extended_opt(parallelize=parallelize)\n",
    "    def method2_program():\n",
    "        qreg = qasm2.qreg(4)\n",
    "        qasm2.h(qreg[0])\n",
    "        qasm2.h(qreg[1])\n",
    "        qasm2.cx(qreg[0],qreg[2])\n",
    "        qasm2.cx(qreg[1],qreg[3])\n",
    "        qasm2.cx(qreg[0],qreg[1])\n",
    "        qasm2.cx(qreg[2],qreg[3])\n",
    "        return qreg\n",
    "\n",
    "    return method2_program\n",
    "\n",
    "\n",
    "kernel2 = method2(parallelize=True)"
   ]
  },
  {
   "cell_type": "code",
   "execution_count": 30,
   "id": "c985233a",
   "metadata": {},
   "outputs": [
    {
     "name": "stdout",
     "output_type": "stream",
     "text": [
      "\u001b[90mKIRIN {func,lowering.call,lowering.func,py.ilist,qasm2.core,qasm2.expr,qasm2.indexing,qasm2.parallel,qasm2.uop,scf}\u001b[0m;\n",
      "\u001b[31minclude\u001b[0m \u001b[32m\"qelib1.inc\"\u001b[0m;\n",
      "\u001b[31mqreg\u001b[0m qreg[4];\n",
      "\u001b[31mparallel.U\u001b[0m(1.5707963267949, 0.0, 3.14159265358979) {\n",
      "\u001b[90m  \u001b[0m\u001b[36mqreg\u001b[0m[\u001b[39m0\u001b[0m];\n",
      "\u001b[90m  \u001b[0m\u001b[36mqreg\u001b[0m[\u001b[39m1\u001b[0m];\n",
      "}\n",
      "\u001b[31mparallel.U\u001b[0m(1.5707963267949, 0.0, 6.28318530717959) {\n",
      "\u001b[90m  \u001b[0m\u001b[36mqreg\u001b[0m[\u001b[39m2\u001b[0m];\n",
      "\u001b[90m  \u001b[0m\u001b[36mqreg\u001b[0m[\u001b[39m3\u001b[0m];\n",
      "}\n",
      "\u001b[31mparallel.CZ \u001b[0m{\n",
      "\u001b[90m  \u001b[0m\u001b[36mqreg\u001b[0m[\u001b[39m0\u001b[0m], \u001b[36mqreg\u001b[0m[\u001b[39m2\u001b[0m];\n",
      "\u001b[90m  \u001b[0m\u001b[36mqreg\u001b[0m[\u001b[39m1\u001b[0m], \u001b[36mqreg\u001b[0m[\u001b[39m3\u001b[0m];\n",
      "}\n",
      "\u001b[31mparallel.U\u001b[0m(1.5707963267949, 3.14159265358979, 3.14159265358979) {\n",
      "\u001b[90m  \u001b[0m\u001b[36mqreg\u001b[0m[\u001b[39m2\u001b[0m];\n",
      "\u001b[90m  \u001b[0m\u001b[36mqreg\u001b[0m[\u001b[39m3\u001b[0m];\n",
      "}\n",
      "\u001b[31mparallel.U\u001b[0m(0.0, 0.0, 3.14159265358979) {\n",
      "\u001b[90m  \u001b[0m\u001b[36mqreg\u001b[0m[\u001b[39m0\u001b[0m];\n",
      "\u001b[90m  \u001b[0m\u001b[36mqreg\u001b[0m[\u001b[39m1\u001b[0m];\n",
      "}\n",
      "\u001b[31mparallel.U\u001b[0m(0.0, 0.0, 6.28318530717958) {\n",
      "\u001b[90m  \u001b[0m\u001b[36mqreg\u001b[0m[\u001b[39m2\u001b[0m];\n",
      "\u001b[90m  \u001b[0m\u001b[36mqreg\u001b[0m[\u001b[39m3\u001b[0m];\n",
      "}\n",
      "\u001b[31mU\u001b[0m(1.5707963267949, 0.0, 6.28318530717959) \u001b[36mqreg\u001b[0m[\u001b[39m1\u001b[0m];\n",
      "\u001b[36mcz\u001b[0m \u001b[36mqreg\u001b[0m[\u001b[39m0\u001b[0m], \u001b[36mqreg\u001b[0m[\u001b[39m1\u001b[0m];\n",
      "\u001b[31mU\u001b[0m(1.5707963267949, 3.14159265358979, 3.14159265358979) \u001b[36mqreg\u001b[0m[\u001b[39m1\u001b[0m];\n",
      "\u001b[31mU\u001b[0m(0.0, 0.0, 3.14159265358979) \u001b[36mqreg\u001b[0m[\u001b[39m0\u001b[0m];\n",
      "\u001b[31mU\u001b[0m(0.0, 0.0, 6.28318530717958) \u001b[36mqreg\u001b[0m[\u001b[39m1\u001b[0m];\n",
      "\u001b[31mU\u001b[0m(1.5707963267949, 0.0, 6.28318530717959) \u001b[36mqreg\u001b[0m[\u001b[39m3\u001b[0m];\n",
      "\u001b[36mcz\u001b[0m \u001b[36mqreg\u001b[0m[\u001b[39m2\u001b[0m], \u001b[36mqreg\u001b[0m[\u001b[39m3\u001b[0m];\n",
      "\u001b[31mU\u001b[0m(1.5707963267949, 3.14159265358979, 3.14159265358979) \u001b[36mqreg\u001b[0m[\u001b[39m3\u001b[0m];\n",
      "\u001b[31mU\u001b[0m(0.0, 0.0, 3.14159265358979) \u001b[36mqreg\u001b[0m[\u001b[39m2\u001b[0m];\n",
      "\u001b[31mU\u001b[0m(0.0, 0.0, 6.28318530717958) \u001b[36mqreg\u001b[0m[\u001b[39m3\u001b[0m];\n"
     ]
    }
   ],
   "source": [
    "qasm2.parse.pprint(target.emit(method2(parallelize=True)))"
   ]
  },
  {
   "cell_type": "code",
   "execution_count": 31,
   "id": "9a220720",
   "metadata": {},
   "outputs": [
    {
     "data": {
      "text/latex": [
       "$$(-0.3514729142 - 0.3556216359 i) |0000\\rangle+(2.98 \\cdot 10^{-8} - 1.49 \\cdot 10^{-8} i) |0010\\rangle+(1.99 \\cdot 10^{-8} - 7.0 \\cdot 10^{-9} i) |0011\\rangle+(-0.3514725864 - 0.3556219041 i) |0101\\rangle+(1.29 \\cdot 10^{-8} - 2.69 \\cdot 10^{-8} i) |0110\\rangle+(4.47 \\cdot 10^{-8} - 1.043 \\cdot 10^{-7} i) |0111\\rangle+(4.47 \\cdot 10^{-8} - 5.96 \\cdot 10^{-8} i) |1000\\rangle+(1.99 \\cdot 10^{-8} - 7.0 \\cdot 10^{-9} i) |1001\\rangle+(-0.3514726162 - 0.3556218743 i) |1010\\rangle+(1.29 \\cdot 10^{-8} - 2.69 \\cdot 10^{-8} i) |1100\\rangle+(2.98 \\cdot 10^{-8} - 1.49 \\cdot 10^{-8} i) |1101\\rangle+(-0.3514727056 - 0.3556218445 i) |1111\\rangle$$"
      ],
      "text/plain": [
       "<IPython.core.display.Latex object>"
      ]
     },
     "metadata": {},
     "output_type": "display_data"
    }
   ],
   "source": [
    "from bloqade.pyqrack import PyQrack\n",
    "from collections import Counter\n",
    "from qiskit.quantum_info import Statevector, Operator\n",
    "\n",
    "device = PyQrack(dynamic_qubits=True, pyqrack_options={\"isBinaryDecisionTree\": False})\n",
    "reg = device.run(kernel2)\n",
    "\n",
    "qbit = reg[0]\n",
    "finalstate2 = qbit.sim_reg.out_ket()\n",
    "display(Statevector(finalstate2).draw(\"latex\"))"
   ]
  },
  {
   "cell_type": "markdown",
   "id": "052f2f4b",
   "metadata": {},
   "source": [
    "Good: the states are the same save for global phases and renaming the qbits"
   ]
  },
  {
   "cell_type": "markdown",
   "id": "eeceffab",
   "metadata": {},
   "source": [
    "## Now let's add noise"
   ]
  },
  {
   "cell_type": "code",
   "execution_count": 32,
   "id": "6b494d78",
   "metadata": {},
   "outputs": [
    {
     "name": "stdout",
     "output_type": "stream",
     "text": [
      "0.9120497364172823 +- 0.009550129509159979\n"
     ]
    }
   ],
   "source": [
    "from bloqade.qasm2.passes import NoisePass\n",
    "from bloqade.noise import native\n",
    "import numpy as np\n",
    "\n",
    "# add noise\n",
    "noise_kernel1 = kernel1.similar()\n",
    "extended_opt.run_pass(noise_kernel1, parallelize=True)\n",
    "NoisePass(extended_opt)(noise_kernel1)\n",
    "\n",
    "noise_kernel1 = noise_kernel1.similar(extended_opt.add(native))\n",
    "\n",
    "device = PyQrack(dynamic_qubits=True, pyqrack_options={\"isBinaryDecisionTree\": False})\n",
    "Nshots = 10000\n",
    "\n",
    "noisy_states1 = [reg[0].sim_reg.out_ket() for reg in device.multi_run(noise_kernel1, _shots = Nshots)]\n",
    "\n",
    "fidelities = [np.abs(np.vdot(noisy_states1[i],finalstate1))**2 for i in range(Nshots)]\n",
    "fidelity1 = np.mean(fidelities)\n",
    "sfidelity1 = np.std(fidelities)\n",
    "\n",
    "print(f\"{fidelity1} +- {np.sqrt(fidelity1/Nshots)}\")"
   ]
  },
  {
   "cell_type": "code",
   "execution_count": 33,
   "id": "95d336fe",
   "metadata": {},
   "outputs": [
    {
     "name": "stdout",
     "output_type": "stream",
     "text": [
      "0.903024472085213 +- 0.009502759978475796\n"
     ]
    }
   ],
   "source": [
    "from bloqade.qasm2.passes import NoisePass\n",
    "from bloqade.noise import native\n",
    "import numpy as np\n",
    "\n",
    "# add noise\n",
    "noise_kernel2 = kernel2.similar()\n",
    "extended_opt.run_pass(noise_kernel2, parallelize=True)\n",
    "NoisePass(extended_opt)(noise_kernel2)\n",
    "\n",
    "noise_kernel2 = noise_kernel2.similar(extended_opt.add(native))\n",
    "\n",
    "device = PyQrack(dynamic_qubits=True, pyqrack_options={\"isBinaryDecisionTree\": False})\n",
    "Nshots = 10000\n",
    "\n",
    "noisy_states2 = [reg[0].sim_reg.out_ket() for reg in device.multi_run(noise_kernel2, _shots = Nshots)]\n",
    "\n",
    "fidelities = [np.abs(np.vdot(noisy_states2[i],finalstate2))**2 for i in range(Nshots)]\n",
    "fidelity2 = np.mean(fidelities)\n",
    "sfidelity2 = np.std(fidelities)\n",
    "\n",
    "print(f\"{fidelity2} +- {np.sqrt(fidelity2/Nshots)}\")"
   ]
  },
  {
   "cell_type": "markdown",
   "id": "2ff40ac3",
   "metadata": {},
   "source": [
    "We conclude that crossings are not relevant with this noise model"
   ]
  }
 ],
 "metadata": {
  "kernelspec": {
   "display_name": "Python 3",
   "language": "python",
   "name": "python3"
  },
  "language_info": {
   "codemirror_mode": {
    "name": "ipython",
    "version": 3
   },
   "file_extension": ".py",
   "mimetype": "text/x-python",
   "name": "python",
   "nbconvert_exporter": "python",
   "pygments_lexer": "ipython3",
   "version": "3.10.12"
  }
 },
 "nbformat": 4,
 "nbformat_minor": 5
}
